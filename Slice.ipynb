{
 "cells": [
  {
   "cell_type": "code",
   "execution_count": 2,
   "metadata": {},
   "outputs": [],
   "source": [
    "import numpy as np\n",
    "import pandas as pd\n",
    "import matplotlib.pyplot as plt\n",
    "from PIL import Image\n",
    "import tifffile as tiff\n",
    "import cv2\n",
    "import os\n",
    "from tqdm.notebook import tqdm\n",
    "import zipfile\n",
    "\n",
    "sz = 512   #the size of tiles\n",
    "reduce = 1024 // sz #reduce the original images by 4 times \n",
    "# MASKS = 'submission/submission_211033.csv'\n",
    "MASKS = \"data/submission.csv\"\n",
    "DATA = 'data/raw/test'\n",
    "OUT_TRAIN = f'data/test{sz}/train.zip'\n",
    "OUT_MASKS = f'data/test{sz}/masks.zip'"
   ]
  },
  {
   "cell_type": "code",
   "execution_count": 3,
   "metadata": {},
   "outputs": [
    {
     "name": "stdout",
     "output_type": "stream",
     "text": [
      "['2ec3f1bb9', '57512b7f1', 'd488c759a', '3589adb90', 'aa05346ff']\n"
     ]
    },
    {
     "data": {
      "text/html": [
       "<div>\n",
       "<style scoped>\n",
       "    .dataframe tbody tr th:only-of-type {\n",
       "        vertical-align: middle;\n",
       "    }\n",
       "\n",
       "    .dataframe tbody tr th {\n",
       "        vertical-align: top;\n",
       "    }\n",
       "\n",
       "    .dataframe thead th {\n",
       "        text-align: right;\n",
       "    }\n",
       "</style>\n",
       "<table border=\"1\" class=\"dataframe\">\n",
       "  <thead>\n",
       "    <tr style=\"text-align: right;\">\n",
       "      <th></th>\n",
       "      <th>predicted</th>\n",
       "    </tr>\n",
       "    <tr>\n",
       "      <th>id</th>\n",
       "      <th></th>\n",
       "    </tr>\n",
       "  </thead>\n",
       "  <tbody>\n",
       "    <tr>\n",
       "      <th>2ec3f1bb9</th>\n",
       "      <td>60738301 36 60762291 36 60786267 58 60810257 5...</td>\n",
       "    </tr>\n",
       "    <tr>\n",
       "      <th>3589adb90</th>\n",
       "      <td>68688387 66 68717820 66 68747245 78 68776678 7...</td>\n",
       "    </tr>\n",
       "    <tr>\n",
       "      <th>d488c759a</th>\n",
       "      <td>534670563 34 534717223 34 534763873 54 5348105...</td>\n",
       "    </tr>\n",
       "    <tr>\n",
       "      <th>aa05346ff</th>\n",
       "      <td>52856691 32 52887411 32 52918119 52 52948839 5...</td>\n",
       "    </tr>\n",
       "    <tr>\n",
       "      <th>57512b7f1</th>\n",
       "      <td>234564213 12 234597453 12 234630691 14 2346639...</td>\n",
       "    </tr>\n",
       "  </tbody>\n",
       "</table>\n",
       "</div>"
      ],
      "text/plain": [
       "                                                   predicted\n",
       "id                                                          \n",
       "2ec3f1bb9  60738301 36 60762291 36 60786267 58 60810257 5...\n",
       "3589adb90  68688387 66 68717820 66 68747245 78 68776678 7...\n",
       "d488c759a  534670563 34 534717223 34 534763873 54 5348105...\n",
       "aa05346ff  52856691 32 52887411 32 52918119 52 52948839 5...\n",
       "57512b7f1  234564213 12 234597453 12 234630691 14 2346639..."
      ]
     },
     "execution_count": 3,
     "metadata": {},
     "output_type": "execute_result"
    }
   ],
   "source": [
    "def enc2mask(encs, shape):\n",
    "    img = np.zeros(shape[0]*shape[1], dtype=np.uint8)\n",
    "    for m,enc in enumerate(encs):\n",
    "        if isinstance(enc,np.float) and np.isnan(enc): continue\n",
    "        s = enc.split()\n",
    "        for i in range(len(s)//2):\n",
    "            start = int(s[2*i]) - 1\n",
    "            length = int(s[2*i+1])\n",
    "            img[start:start+length] = 1 + m\n",
    "    return img.reshape(shape).T\n",
    "\n",
    "def mask2enc(mask, n=1):\n",
    "    pixels = mask.T.flatten()\n",
    "    encs = []\n",
    "    for i in range(1,n+1):\n",
    "        p = (pixels == i).astype(np.int8)\n",
    "        if p.sum() == 0: encs.append(np.nan)\n",
    "        else:\n",
    "            p = np.concatenate([[0], p, [0]])\n",
    "            runs = np.where(p[1:] != p[:-1])[0] + 1\n",
    "            runs[1::2] -= runs[::2]\n",
    "            encs.append(' '.join(str(x) for x in runs))\n",
    "    return encs\n",
    "\n",
    "df_masks = pd.read_csv(MASKS).set_index('id')\n",
    "print([_.split(\".\")[0] for _ in os.listdir(DATA) if \"tiff\" in _])\n",
    "df_masks.head()"
   ]
  },
  {
   "cell_type": "code",
   "execution_count": null,
   "metadata": {},
   "outputs": [
    {
     "data": {
      "application/vnd.jupyter.widget-view+json": {
       "model_id": "4688d81ea913413db3134d7bd2ac6ea9",
       "version_major": 2,
       "version_minor": 0
      },
      "text/plain": [
       "  0%|          | 0/5 [00:00<?, ?it/s]"
      ]
     },
     "metadata": {},
     "output_type": "display_data"
    },
    {
     "name": "stderr",
     "output_type": "stream",
     "text": [
      "<ipython-input-3-61b8d80bf413>:4: DeprecationWarning: `np.float` is a deprecated alias for the builtin `float`. To silence this warning, use `float` by itself. Doing this will not modify any behavior and is safe. If you specifically wanted the numpy scalar type, use `np.float64` here.\n",
      "Deprecated in NumPy 1.20; for more details and guidance: https://numpy.org/devdocs/release/1.20.0-notes.html#deprecations\n",
      "  if isinstance(enc,np.float) and np.isnan(enc): continue\n"
     ]
    },
    {
     "data": {
      "application/vnd.jupyter.widget-view+json": {
       "model_id": "44b2ebc8481241589e8a218f97c7e7c4",
       "version_major": 2,
       "version_minor": 0
      },
      "text/plain": [
       "0it [00:00, ?it/s]"
      ]
     },
     "metadata": {},
     "output_type": "display_data"
    },
    {
     "data": {
      "application/vnd.jupyter.widget-view+json": {
       "model_id": "7a2a9f514a33476c975f698df0270e8f",
       "version_major": 2,
       "version_minor": 0
      },
      "text/plain": [
       "0it [00:00, ?it/s]"
      ]
     },
     "metadata": {},
     "output_type": "display_data"
    },
    {
     "data": {
      "application/vnd.jupyter.widget-view+json": {
       "model_id": "898459b221bc44af91d39dea82747d3a",
       "version_major": 2,
       "version_minor": 0
      },
      "text/plain": [
       "0it [00:00, ?it/s]"
      ]
     },
     "metadata": {},
     "output_type": "display_data"
    }
   ],
   "source": [
    "s_th = 40  #saturation blancking threshold\n",
    "p_th = 1000*(sz//256)**2 #threshold for the minimum number of pixels\n",
    "\n",
    "x_tot,x2_tot = [],[]\n",
    "with zipfile.ZipFile(OUT_TRAIN, 'w') as img_out, zipfile.ZipFile(OUT_MASKS, 'w') as mask_out:\n",
    "    for index, encs in tqdm(df_masks.iterrows(),total=len(df_masks)):\n",
    "#     for index in tqdm([_.split(\".\")[0] for _ in os.listdir(\"data/raw/test\") if \"tiff\" in _]):\n",
    "        #read image and generate the mask\n",
    "        img = tiff.imread(os.path.join(DATA,index+'.tiff'))\n",
    "        if len(img.shape) == 5 or img.shape[0] == 3: img = np.transpose(img.squeeze(), (1,2,0))\n",
    "        mask = enc2mask(encs,(img.shape[1],img.shape[0]))\n",
    "\n",
    "        #add padding to make the image dividable into tiles\n",
    "        shape = img.shape\n",
    "        pad0 = (reduce*sz - shape[0]%(reduce*sz))%(reduce*sz)\n",
    "        pad1 = (reduce*sz - shape[1]%(reduce*sz))%(reduce*sz)\n",
    "        img = np.pad(img,[[pad0//2,pad0-pad0//2],[pad1//2,pad1-pad1//2],[0,0]], constant_values=0)\n",
    "        mask = np.pad(mask,[[pad0//2,pad0-pad0//2],[pad1//2,pad1-pad1//2]],constant_values=0)\n",
    "\n",
    "        #split image and mask into tiles using the reshape+transpose trick\n",
    "        img = cv2.resize(img,(img.shape[1]//reduce,img.shape[0]//reduce), interpolation = cv2.INTER_AREA)\n",
    "        img = img.reshape(img.shape[0]//sz,sz,img.shape[1]//sz,sz,3)\n",
    "        img = img.transpose(0,2,1,3,4).reshape(-1,sz,sz,3)\n",
    "\n",
    "        mask = cv2.resize(mask,(mask.shape[1]//reduce,mask.shape[0]//reduce), interpolation = cv2.INTER_NEAREST)\n",
    "        mask = mask.reshape(mask.shape[0]//sz,sz,mask.shape[1]//sz,sz)\n",
    "        mask = mask.transpose(0,2,1,3).reshape(-1,sz,sz)\n",
    "\n",
    "        #write data\n",
    "        for i,(im,m) in enumerate(tqdm(zip(img,mask))):\n",
    "#         for i,im in enumerate(img):\n",
    "            #remove black or gray images based on saturation check\n",
    "            hsv = cv2.cvtColor(im, cv2.COLOR_BGR2HSV)\n",
    "            h, s, v = cv2.split(hsv)\n",
    "            if (s>s_th).sum() <= p_th or im.sum() <= p_th: continue\n",
    "            \n",
    "            x_tot.append((im/255.0).reshape(-1,3).mean(0))\n",
    "            x2_tot.append(((im/255.0)**2).reshape(-1,3).mean(0))\n",
    "            \n",
    "            im = cv2.imencode('.png',cv2.cvtColor(im, cv2.COLOR_RGB2BGR))[1]\n",
    "            img_out.writestr(f'{index}_{i}.png', im)\n",
    "            m = cv2.imencode('.png',m)[1]\n",
    "            mask_out.writestr(f'{index}_{i}.png', m)\n",
    "\n",
    "#image stats\n",
    "img_avr =  np.array(x_tot).mean(0)\n",
    "img_std =  np.sqrt(np.array(x2_tot).mean(0) - img_avr**2)\n",
    "print('mean:',img_avr, ', std:', img_std)"
   ]
  }
 ],
 "metadata": {
  "kernelspec": {
   "display_name": "Python 3",
   "language": "python",
   "name": "python3"
  },
  "language_info": {
   "codemirror_mode": {
    "name": "ipython",
    "version": 3
   },
   "file_extension": ".py",
   "mimetype": "text/x-python",
   "name": "python",
   "nbconvert_exporter": "python",
   "pygments_lexer": "ipython3",
   "version": "3.8.5"
  }
 },
 "nbformat": 4,
 "nbformat_minor": 4
}
